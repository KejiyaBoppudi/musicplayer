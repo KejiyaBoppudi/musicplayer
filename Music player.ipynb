{
 "cells": [
  {
   "cell_type": "code",
   "execution_count": null,
   "id": "82e6e06c",
   "metadata": {},
   "outputs": [
    {
     "name": "stdout",
     "output_type": "stream",
     "text": [
      "pygame 2.4.0 (SDL 2.26.4, Python 3.11.3)\n",
      "Hello from the pygame community. https://www.pygame.org/contribute.html\n"
     ]
    }
   ],
   "source": [
    "import pygame\n",
    "import tkinter as tk\n",
    "from tkinter import filedialog\n",
    "\n",
    "def open_file():\n",
    "    file_path = filedialog.askopenfilename(filetypes=[(\"Audio Files\", \"*.mp3\")])\n",
    "    if file_path:\n",
    "        pygame.mixer.music.load(file_path)\n",
    "        pygame.mixer.music.play()\n",
    "\n",
    "def pause():\n",
    "    pygame.mixer.music.pause()\n",
    "\n",
    "def resume():\n",
    "    pygame.mixer.music.unpause()\n",
    "\n",
    "def stop():\n",
    "    pygame.mixer.music.stop()\n",
    "\n",
    "# Initialize pygame mixer\n",
    "pygame.mixer.init()\n",
    "\n",
    "# Create the main window\n",
    "window = tk.Tk()\n",
    "window.title(\"Music Player\")\n",
    "\n",
    "# Create the menu bar\n",
    "menu_bar = tk.Menu(window)\n",
    "window.config(menu=menu_bar)\n",
    "\n",
    "# Create the File menu\n",
    "file_menu = tk.Menu(menu_bar, tearoff=False)\n",
    "menu_bar.add_cascade(label=\"File\", menu=file_menu)\n",
    "file_menu.add_command(label=\"Open\", command=open_file)\n",
    "file_menu.add_separator()\n",
    "file_menu.add_command(label=\"Exit\", command=window.quit)\n",
    "\n",
    "# Create the Controls frame\n",
    "controls_frame = tk.Frame(window)\n",
    "controls_frame.pack()\n",
    "\n",
    "# Create the buttons\n",
    "button_open = tk.Button(controls_frame, text=\"Open\", command=open_file)\n",
    "button_open.pack(side=tk.LEFT)\n",
    "\n",
    "button_pause = tk.Button(controls_frame, text=\"Pause\", command=pause)\n",
    "button_pause.pack(side=tk.LEFT)\n",
    "\n",
    "button_resume = tk.Button(controls_frame, text=\"Resume\", command=resume)\n",
    "button_resume.pack(side=tk.LEFT)\n",
    "\n",
    "button_stop = tk.Button(controls_frame, text=\"Stop\", command=stop)\n",
    "button_stop.pack(side=tk.LEFT)\n",
    "\n",
    "# Start the application\n",
    "window.mainloop()\n"
   ]
  },
  {
   "cell_type": "code",
   "execution_count": null,
   "id": "a4accbbb",
   "metadata": {},
   "outputs": [],
   "source": []
  }
 ],
 "metadata": {
  "kernelspec": {
   "display_name": "Python 3 (ipykernel)",
   "language": "python",
   "name": "python3"
  },
  "language_info": {
   "codemirror_mode": {
    "name": "ipython",
    "version": 3
   },
   "file_extension": ".py",
   "mimetype": "text/x-python",
   "name": "python",
   "nbconvert_exporter": "python",
   "pygments_lexer": "ipython3",
   "version": "3.11.3"
  }
 },
 "nbformat": 4,
 "nbformat_minor": 5
}
